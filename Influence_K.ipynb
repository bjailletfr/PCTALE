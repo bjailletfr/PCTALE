{
 "cells": [
  {
   "cell_type": "markdown",
   "id": "fb88a362-c07f-4b1b-8eb6-65d62702bfa2",
   "metadata": {},
   "source": [
    "# Taux d'avancement d'une esterification"
   ]
  },
  {
   "cell_type": "markdown",
   "id": "c79dcb86-4941-44e5-ae3c-86a638f49732",
   "metadata": {},
   "source": [
    "Les données initiales : la constante de réaction K, les quantités initiales d'acide et d'alcool."
   ]
  },
  {
   "cell_type": "code",
   "execution_count": 7,
   "id": "78f489ba-0a75-4e43-ab42-e10d7fc86fdd",
   "metadata": {},
   "outputs": [],
   "source": [
    "K=4\n",
    "n_ac=1E-2 #mol d'acide\n",
    "n_al=1E-2 #mol d'alcool"
   ]
  },
  {
   "cell_type": "markdown",
   "id": "c48c4c70-7b28-4afc-aa5d-82a2b23f5ddb",
   "metadata": {
    "tags": []
   },
   "source": [
    "### Si la réaction est totale ..."
   ]
  },
  {
   "cell_type": "markdown",
   "id": "616dd4dc-11f8-401f-90ae-ed8e6b1259ab",
   "metadata": {},
   "source": [
    "Si la réaction est totale, l'avancement final est égal à l'avancement maximal $x_{max}$ :"
   ]
  },
  {
   "cell_type": "code",
   "execution_count": 19,
   "id": "b7c03c24-4dd5-47ae-9493-d6955e146f01",
   "metadata": {
    "tags": []
   },
   "outputs": [
    {
     "name": "stdout",
     "output_type": "stream",
     "text": [
      "x_max = 1.00E-02 mol\n"
     ]
    }
   ],
   "source": [
    "x_max=min(n_ac, n_al)\n",
    "print(\"x_max = {:.2E} mol\".format(x_max))"
   ]
  },
  {
   "cell_type": "markdown",
   "id": "35291775-2da1-414e-8239-86c8c6e9185a",
   "metadata": {
    "tags": []
   },
   "source": [
    "### Si la réaction aboutit à un état d'équilibre ..."
   ]
  },
  {
   "cell_type": "markdown",
   "id": "34d0e749-a8b8-43e4-9bbd-8870227723e3",
   "metadata": {},
   "source": [
    "Si la réaction aboutit à un état d'équilibre, l'avancement final $x_f$ peut être déterminé à partir de l'expression du quotient de réaction qui est égal, à l'équilibre, à la constante de réaction. On aboutit alors à un polynôme du second degré qu'il faut résoudre pour connaître $x_f$ :"
   ]
  },
  {
   "cell_type": "markdown",
   "id": "cd34e7a6-de04-46f4-9ff6-36ae8dcc4873",
   "metadata": {
    "tags": []
   },
   "source": [
    "$ a \\times x_{f}^{2} + b \\times x_{f} + c = 0 $"
   ]
  },
  {
   "cell_type": "code",
   "execution_count": 25,
   "id": "34eb37b1-8a81-4058-b468-cd0c5a848ae9",
   "metadata": {},
   "outputs": [
    {
     "name": "stdout",
     "output_type": "stream",
     "text": [
      "xf_1 = 2.00E-02 mol    et    xf_2 = 6.67E-03 mol\n"
     ]
    }
   ],
   "source": [
    "a,b,c=K-1,-K*(n_al+n_ac),K*n_ac*n_al\n",
    "delta=b**2-4*a*c\n",
    "xf_1=(-b+delta**0.5)/(2*a)\n",
    "xf_2=(-b-delta**0.5)/(2*a)\n",
    "print(\"xf_1 = {:.2E} mol    et    xf_2 = {:.2E} mol\".format(xf_1,xf_2))"
   ]
  },
  {
   "cell_type": "markdown",
   "id": "2a8bec0a-788a-431f-9499-8708031dd480",
   "metadata": {},
   "source": [
    "On sélectionne la bonne solution telle que : $0 < x_f < x_{max}$"
   ]
  },
  {
   "cell_type": "code",
   "execution_count": 13,
   "id": "8d936d55-4a86-4a49-9778-69126004cf26",
   "metadata": {},
   "outputs": [],
   "source": [
    "if (xf_1>0 and xf_1<=x_max):\n",
    "    xf=xf_1\n",
    "else:\n",
    "    xf=xf_2"
   ]
  },
  {
   "cell_type": "markdown",
   "id": "44419f5f-4e3c-4292-8bcd-6e8879f7b408",
   "metadata": {},
   "source": [
    "Le taux d'avancement de la réaction se détermine à l'aide du rapport : $ \\tau = \\dfrac{x_f}{x_{max}}$"
   ]
  },
  {
   "cell_type": "code",
   "execution_count": 16,
   "id": "bf7c28fd-656a-4ee0-a8b4-985d2d15a603",
   "metadata": {},
   "outputs": [
    {
     "name": "stdout",
     "output_type": "stream",
     "text": [
      "tau=0.67 soit 66.67 %\n"
     ]
    }
   ],
   "source": [
    "tau=xf/x_max\n",
    "print(\"tau={:.2f} soit {:.2f} %\".format(tau,tau*100))"
   ]
  }
 ],
 "metadata": {
  "kernelspec": {
   "display_name": "Python 3 (ipykernel)",
   "language": "python",
   "name": "python3"
  },
  "language_info": {
   "codemirror_mode": {
    "name": "ipython",
    "version": 3
   },
   "file_extension": ".py",
   "mimetype": "text/x-python",
   "name": "python",
   "nbconvert_exporter": "python",
   "pygments_lexer": "ipython3",
   "version": "3.9.7"
  }
 },
 "nbformat": 4,
 "nbformat_minor": 5
}
