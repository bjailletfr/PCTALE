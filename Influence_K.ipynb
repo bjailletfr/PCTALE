{
 "cells": [
  {
   "cell_type": "markdown",
   "id": "c79dcb86-4941-44e5-ae3c-86a638f49732",
   "metadata": {},
   "source": [
    "La constante de réaction est :"
   ]
  },
  {
   "cell_type": "code",
   "execution_count": 20,
   "id": "78f489ba-0a75-4e43-ab42-e10d7fc86fdd",
   "metadata": {},
   "outputs": [],
   "source": [
    "K=4"
   ]
  },
  {
   "cell_type": "markdown",
   "id": "cd34e7a6-de04-46f4-9ff6-36ae8dcc4873",
   "metadata": {},
   "source": [
    "$ a \\times x^{2} + b \\times x + c = 0 $"
   ]
  },
  {
   "cell_type": "code",
   "execution_count": 21,
   "id": "34eb37b1-8a81-4058-b468-cd0c5a848ae9",
   "metadata": {},
   "outputs": [
    {
     "name": "stdout",
     "output_type": "stream",
     "text": [
      "x1= 2.0 et x2= 0.6666666666666666\n"
     ]
    }
   ],
   "source": [
    "a,b,c=K-1,-2*K,K\n",
    "delta=b**2-4*a*c\n",
    "x1=(-b+delta**0.5)/(2*a)\n",
    "x2=(-b-delta**0.5)/(2*a)\n",
    "print(\"x1=\",x1,\"et x2=\",x2)"
   ]
  },
  {
   "cell_type": "code",
   "execution_count": null,
   "id": "f6dcef42-4363-403b-b630-ad0f8e082f78",
   "metadata": {},
   "outputs": [],
   "source": []
  }
 ],
 "metadata": {
  "kernelspec": {
   "display_name": "Python 3 (ipykernel)",
   "language": "python",
   "name": "python3"
  },
  "language_info": {
   "codemirror_mode": {
    "name": "ipython",
    "version": 3
   },
   "file_extension": ".py",
   "mimetype": "text/x-python",
   "name": "python",
   "nbconvert_exporter": "python",
   "pygments_lexer": "ipython3",
   "version": "3.7.12"
  }
 },
 "nbformat": 4,
 "nbformat_minor": 5
}
