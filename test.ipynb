{
 "cells": [
  {
   "cell_type": "code",
   "execution_count": 2,
   "id": "a8d8c5ab",
   "metadata": {},
   "outputs": [],
   "source": [
    "import ipywidgets as widgets\n",
    "import matplotlib.pyplot as plt"
   ]
  },
  {
   "cell_type": "code",
   "execution_count": 13,
   "id": "ce6b6cb3",
   "metadata": {},
   "outputs": [],
   "source": [
    "def graph(a=1, c=0):\n",
    "    X=[1,2,3,4,5,6]\n",
    "    Y=[a*x for x in X]\n",
    "    C=[c for x in X]\n",
    "    plt.plot(X,Y)\n",
    "    plt.plot(X,C, color=\"red\")\n",
    "    plt.ylim(0,10)\n",
    "    plt.xlim(0,10)"
   ]
  },
  {
   "cell_type": "code",
   "execution_count": 14,
   "id": "197fcc89",
   "metadata": {},
   "outputs": [
    {
     "data": {
      "application/vnd.jupyter.widget-view+json": {
       "model_id": "72734262f8c64ea19e3f64685b52dbb8",
       "version_major": 2,
       "version_minor": 0
      },
      "text/plain": [
       "interactive(children=(FloatSlider(value=1.0, description='a', max=2.0, min=0.5), FloatSlider(value=0.0, descri…"
      ]
     },
     "metadata": {},
     "output_type": "display_data"
    },
    {
     "data": {
      "text/plain": [
       "<function __main__.graph(a=1, c=0)>"
      ]
     },
     "execution_count": 14,
     "metadata": {},
     "output_type": "execute_result"
    }
   ],
   "source": [
    "widgets.interact(graph, a=(0.5,2,0.1), c=(0,10,0.1))"
   ]
  },
  {
   "cell_type": "code",
   "execution_count": 9,
   "id": "89f09394",
   "metadata": {},
   "outputs": [],
   "source": [
    "rb=widgets.RadioButtons(\n",
    "    options=[0,1,2,3,4],\n",
    "    value=1\n",
    ")"
   ]
  },
  {
   "cell_type": "code",
   "execution_count": 10,
   "id": "af67394e",
   "metadata": {},
   "outputs": [
    {
     "data": {
      "application/vnd.jupyter.widget-view+json": {
       "model_id": "80d270285e9047169dc870f48341663a",
       "version_major": 2,
       "version_minor": 0
      },
      "text/plain": [
       "interactive(children=(RadioButtons(description='a', index=1, options=(0, 1, 2, 3, 4), value=1), Output()), _do…"
      ]
     },
     "metadata": {},
     "output_type": "display_data"
    },
    {
     "data": {
      "text/plain": [
       "<function __main__.graph(a=1)>"
      ]
     },
     "execution_count": 10,
     "metadata": {},
     "output_type": "execute_result"
    }
   ],
   "source": [
    "widgets.interact(graph, a=rb)"
   ]
  },
  {
   "cell_type": "code",
   "execution_count": null,
   "id": "4a6f3fe8",
   "metadata": {},
   "outputs": [],
   "source": []
  }
 ],
 "metadata": {
  "kernelspec": {
   "display_name": "Python 3 (ipykernel)",
   "language": "python",
   "name": "python3"
  },
  "language_info": {
   "codemirror_mode": {
    "name": "ipython",
    "version": 3
   },
   "file_extension": ".py",
   "mimetype": "text/x-python",
   "name": "python",
   "nbconvert_exporter": "python",
   "pygments_lexer": "ipython3",
   "version": "3.9.7"
  }
 },
 "nbformat": 4,
 "nbformat_minor": 5
}
